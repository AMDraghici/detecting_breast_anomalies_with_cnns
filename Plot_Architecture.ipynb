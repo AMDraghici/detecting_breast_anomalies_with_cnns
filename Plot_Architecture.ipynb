{
 "cells": [
  {
   "cell_type": "code",
   "execution_count": 1,
   "metadata": {},
   "outputs": [
    {
     "name": "stderr",
     "output_type": "stream",
     "text": [
      "Using TensorFlow backend.\n"
     ]
    }
   ],
   "source": [
    "#Import Relevant Keras Deep Learning Modules\n",
    "from keras import layers\n",
    "from keras import models\n",
    "from keras import optimizers\n",
    "from keras.preprocessing import image\n",
    "from keras.models import load_model\n",
    "from keras import backend as K\n",
    "\n",
    "#Import Relevant Data Science Modules\n",
    "import numpy as np\n",
    "import matplotlib.pyplot as plt\n",
    "import seaborn as sns\n",
    "from sklearn.metrics import confusion_matrix"
   ]
  },
  {
   "cell_type": "code",
   "execution_count": 25,
   "metadata": {},
   "outputs": [],
   "source": [
    "#Model 1\n",
    "model = models.Sequential()\n",
    "model.add(layers.Conv2D(32, (3, 3),name=\"Convolution1\", activation='relu', input_shape=(64, 64, 3)))\n",
    "model.add(layers.MaxPooling2D((2, 2),name=\"MaxPooling1\"))\n",
    "model.add(layers.Conv2D(16, (3, 3),name=\"Convolution2\", activation='relu'))\n",
    "model.add(layers.MaxPooling2D((2, 2),name=\"MaxPooling2\"))\n",
    "model.add(layers.Conv2D(8, (3, 3), activation='relu',name=\"Convolution3\"))\n",
    "model.add(layers.MaxPooling2D((2, 2),name=\"MaxPooling3\"))\n",
    "model.add(layers.Flatten(name=\"Flatten\"))\n",
    "model.add(layers.Dropout(0.5,name='Dropout_0.5'))\n",
    "model.add(layers.Dense(64, activation='relu',name=\"Dense1\"))\n",
    "model.add(layers.Dense(32, activation='relu',name=\"Dense2\"))\n",
    "model.add(layers.Dense(1, activation='sigmoid',name=\"Output\"))"
   ]
  },
  {
   "cell_type": "code",
   "execution_count": 26,
   "metadata": {},
   "outputs": [
    {
     "name": "stdout",
     "output_type": "stream",
     "text": [
      "_________________________________________________________________\n",
      "Layer (type)                 Output Shape              Param #   \n",
      "=================================================================\n",
      "Convolution1 (Conv2D)        (None, 62, 62, 32)        896       \n",
      "_________________________________________________________________\n",
      "MaxPooling1 (MaxPooling2D)   (None, 31, 31, 32)        0         \n",
      "_________________________________________________________________\n",
      "Convolution2 (Conv2D)        (None, 29, 29, 16)        4624      \n",
      "_________________________________________________________________\n",
      "MaxPooling2 (MaxPooling2D)   (None, 14, 14, 16)        0         \n",
      "_________________________________________________________________\n",
      "Convolution3 (Conv2D)        (None, 12, 12, 8)         1160      \n",
      "_________________________________________________________________\n",
      "MaxPooling3 (MaxPooling2D)   (None, 6, 6, 8)           0         \n",
      "_________________________________________________________________\n",
      "Flatten (Flatten)            (None, 288)               0         \n",
      "_________________________________________________________________\n",
      "Dropout_0.5 (Dropout)        (None, 288)               0         \n",
      "_________________________________________________________________\n",
      "Dense1 (Dense)               (None, 64)                18496     \n",
      "_________________________________________________________________\n",
      "Dense2 (Dense)               (None, 32)                2080      \n",
      "_________________________________________________________________\n",
      "Output (Dense)               (None, 1)                 33        \n",
      "=================================================================\n",
      "Total params: 27,289\n",
      "Trainable params: 27,289\n",
      "Non-trainable params: 0\n",
      "_________________________________________________________________\n"
     ]
    }
   ],
   "source": [
    "model.summary()"
   ]
  },
  {
   "cell_type": "code",
   "execution_count": 28,
   "metadata": {},
   "outputs": [],
   "source": [
    "from keras.utils.vis_utils import plot_model\n",
    "plot_model(model, to_file='model_plot1.png', show_shapes=True, show_layer_names=True)"
   ]
  },
  {
   "cell_type": "code",
   "execution_count": 29,
   "metadata": {},
   "outputs": [],
   "source": [
    "#Build Model Using Keras\n",
    "model = models.Sequential()\n",
    "model.add(layers.Conv2D(8, (3, 3),name=\"Convolution1a\",  activation='relu', input_shape=(64, 64, 3)))\n",
    "model.add(layers.Conv2D(8, (3, 3),name=\"Convolution1b\",  activation='relu'))\n",
    "model.add(layers.MaxPooling2D((2, 2),name=\"MaxPooling1\"))\n",
    "model.add(layers.Conv2D(16, (3, 3),name=\"Convolution2a\", activation='relu'))\n",
    "model.add(layers.Conv2D(16, (3, 3),name=\"Convolution2b\", activation='relu'))\n",
    "model.add(layers.MaxPooling2D((2, 2),name=\"MaxPooling2\",))\n",
    "model.add(layers.Flatten(name=\"Flatten\"))\n",
    "model.add(layers.Dense(64, activation='relu',name='Dense1'))\n",
    "model.add(layers.Dropout(0.5,name='Dropout1_0.5'))\n",
    "model.add(layers.Dense(64, activation='relu',name='Dense2'))\n",
    "model.add(layers.Dropout(0.5,name='Dropout2_0.5'))\n",
    "model.add(layers.Dense(1, activation='sigmoid',name='Output'))"
   ]
  },
  {
   "cell_type": "code",
   "execution_count": 30,
   "metadata": {},
   "outputs": [
    {
     "name": "stdout",
     "output_type": "stream",
     "text": [
      "_________________________________________________________________\n",
      "Layer (type)                 Output Shape              Param #   \n",
      "=================================================================\n",
      "Convolution1a (Conv2D)       (None, 62, 62, 8)         224       \n",
      "_________________________________________________________________\n",
      "Convolution1b (Conv2D)       (None, 60, 60, 8)         584       \n",
      "_________________________________________________________________\n",
      "MaxPooling1 (MaxPooling2D)   (None, 30, 30, 8)         0         \n",
      "_________________________________________________________________\n",
      "Convolution2a (Conv2D)       (None, 28, 28, 16)        1168      \n",
      "_________________________________________________________________\n",
      "Convolution2b (Conv2D)       (None, 26, 26, 16)        2320      \n",
      "_________________________________________________________________\n",
      "MaxPooling2 (MaxPooling2D)   (None, 13, 13, 16)        0         \n",
      "_________________________________________________________________\n",
      "Flatten (Flatten)            (None, 2704)              0         \n",
      "_________________________________________________________________\n",
      "Dense1 (Dense)               (None, 64)                173120    \n",
      "_________________________________________________________________\n",
      "Dropout1_0.5 (Dropout)       (None, 64)                0         \n",
      "_________________________________________________________________\n",
      "Dense2 (Dense)               (None, 64)                4160      \n",
      "_________________________________________________________________\n",
      "Dropout2_0.5 (Dropout)       (None, 64)                0         \n",
      "_________________________________________________________________\n",
      "Output (Dense)               (None, 1)                 65        \n",
      "=================================================================\n",
      "Total params: 181,641\n",
      "Trainable params: 181,641\n",
      "Non-trainable params: 0\n",
      "_________________________________________________________________\n"
     ]
    }
   ],
   "source": [
    "model.summary()"
   ]
  },
  {
   "cell_type": "code",
   "execution_count": 31,
   "metadata": {},
   "outputs": [],
   "source": [
    "plot_model(model, to_file='model_plot2.png', show_shapes=True, show_layer_names=True)"
   ]
  }
 ],
 "metadata": {
  "kernelspec": {
   "display_name": "Python 3",
   "language": "python",
   "name": "python3"
  },
  "language_info": {
   "codemirror_mode": {
    "name": "ipython",
    "version": 3
   },
   "file_extension": ".py",
   "mimetype": "text/x-python",
   "name": "python",
   "nbconvert_exporter": "python",
   "pygments_lexer": "ipython3",
   "version": "3.6.8"
  }
 },
 "nbformat": 4,
 "nbformat_minor": 2
}
