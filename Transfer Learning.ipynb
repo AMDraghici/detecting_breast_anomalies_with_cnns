{
 "cells": [
  {
   "cell_type": "code",
   "execution_count": 1,
   "metadata": {},
   "outputs": [
    {
     "name": "stderr",
     "output_type": "stream",
     "text": [
      "Using TensorFlow backend.\n"
     ]
    }
   ],
   "source": [
    "#Import Relevant Keras Deep Learning Modules\n",
    "from keras import layers\n",
    "from keras import models\n",
    "from keras import optimizers\n",
    "\n",
    "#Import Relevant Data Science Modules\n",
    "import numpy as np\n",
    "import matplotlib.pyplot as plt\n",
    "import seaborn as sns\n",
    "from sklearn.metrics import confusion_matrix"
   ]
  },
  {
   "cell_type": "code",
   "execution_count": 2,
   "metadata": {},
   "outputs": [
    {
     "name": "stdout",
     "output_type": "stream",
     "text": [
      "_________________________________________________________________\n",
      "Layer (type)                 Output Shape              Param #   \n",
      "=================================================================\n",
      "input_1 (InputLayer)         (None, 64, 64, 3)         0         \n",
      "_________________________________________________________________\n",
      "block1_conv1 (Conv2D)        (None, 64, 64, 64)        1792      \n",
      "_________________________________________________________________\n",
      "block1_conv2 (Conv2D)        (None, 64, 64, 64)        36928     \n",
      "_________________________________________________________________\n",
      "block1_pool (MaxPooling2D)   (None, 32, 32, 64)        0         \n",
      "_________________________________________________________________\n",
      "block2_conv1 (Conv2D)        (None, 32, 32, 128)       73856     \n",
      "_________________________________________________________________\n",
      "block2_conv2 (Conv2D)        (None, 32, 32, 128)       147584    \n",
      "_________________________________________________________________\n",
      "block2_pool (MaxPooling2D)   (None, 16, 16, 128)       0         \n",
      "_________________________________________________________________\n",
      "block3_conv1 (Conv2D)        (None, 16, 16, 256)       295168    \n",
      "_________________________________________________________________\n",
      "block3_conv2 (Conv2D)        (None, 16, 16, 256)       590080    \n",
      "_________________________________________________________________\n",
      "block3_conv3 (Conv2D)        (None, 16, 16, 256)       590080    \n",
      "_________________________________________________________________\n",
      "block3_pool (MaxPooling2D)   (None, 8, 8, 256)         0         \n",
      "_________________________________________________________________\n",
      "block4_conv1 (Conv2D)        (None, 8, 8, 512)         1180160   \n",
      "_________________________________________________________________\n",
      "block4_conv2 (Conv2D)        (None, 8, 8, 512)         2359808   \n",
      "_________________________________________________________________\n",
      "block4_conv3 (Conv2D)        (None, 8, 8, 512)         2359808   \n",
      "_________________________________________________________________\n",
      "block4_pool (MaxPooling2D)   (None, 4, 4, 512)         0         \n",
      "_________________________________________________________________\n",
      "block5_conv1 (Conv2D)        (None, 4, 4, 512)         2359808   \n",
      "_________________________________________________________________\n",
      "block5_conv2 (Conv2D)        (None, 4, 4, 512)         2359808   \n",
      "_________________________________________________________________\n",
      "block5_conv3 (Conv2D)        (None, 4, 4, 512)         2359808   \n",
      "_________________________________________________________________\n",
      "block5_pool (MaxPooling2D)   (None, 2, 2, 512)         0         \n",
      "=================================================================\n",
      "Total params: 14,714,688\n",
      "Trainable params: 14,714,688\n",
      "Non-trainable params: 0\n",
      "_________________________________________________________________\n"
     ]
    }
   ],
   "source": [
    "#Transfer learning with vgg19\n",
    "from keras.applications import VGG16\n",
    "base = VGG16(weights='imagenet', include_top=False, input_shape=(64, 64, 3))\n",
    "base.summary()"
   ]
  },
  {
   "cell_type": "code",
   "execution_count": 7,
   "metadata": {},
   "outputs": [
    {
     "name": "stdout",
     "output_type": "stream",
     "text": [
      "_________________________________________________________________\n",
      "Layer (type)                 Output Shape              Param #   \n",
      "=================================================================\n",
      "vgg16 (Model)                (None, 2, 2, 512)         14714688  \n",
      "_________________________________________________________________\n",
      "flatten_2 (Flatten)          (None, 2048)              0         \n",
      "_________________________________________________________________\n",
      "dropout_2 (Dropout)          (None, 2048)              0         \n",
      "_________________________________________________________________\n",
      "dense_3 (Dense)              (None, 32)                65568     \n",
      "_________________________________________________________________\n",
      "dense_4 (Dense)              (None, 1)                 33        \n",
      "=================================================================\n",
      "Total params: 14,780,289\n",
      "Trainable params: 65,601\n",
      "Non-trainable params: 14,714,688\n",
      "_________________________________________________________________\n"
     ]
    }
   ],
   "source": [
    "#Freeze training weights, add new bottleneck layers\n",
    "base.trainable = False \n",
    "#Define a new model\n",
    "model = models.Sequential()\n",
    "model.add(base)\n",
    "model.add(layers.Flatten())\n",
    "model.add(layers.Dropout(0.5))\n",
    "model.add(layers.Dense(32, activation='relu'))\n",
    "model.add(layers.Dense(1, activation='sigmoid'))\n",
    "model.summary()"
   ]
  },
  {
   "cell_type": "code",
   "execution_count": 8,
   "metadata": {},
   "outputs": [],
   "source": [
    "#Compile model\n",
    "model.compile(optimizer='rmsprop',loss='binary_crossentropy',metrics=['accuracy'])"
   ]
  },
  {
   "cell_type": "code",
   "execution_count": 5,
   "metadata": {},
   "outputs": [],
   "source": [
    "#Training data\n",
    "path2dat = \"C:/Users/alex/Hands-On-Machine Learning/Project - Mammography/Data/Processed/\"\n",
    "train_images = np.load(path2dat + \"train_images2.npy\")\n",
    "train_labels = np.load(path2dat + \"train_labels.npy\")\n",
    "validation_images = np.load(path2dat + \"validation_images.npy\")\n",
    "validation_labels = np.load(path2dat + \"validation_labels.npy\")"
   ]
  },
  {
   "cell_type": "code",
   "execution_count": 9,
   "metadata": {},
   "outputs": [
    {
     "name": "stdout",
     "output_type": "stream",
     "text": [
      "Epoch 1/20\n",
      "92405/92405 [==============================] - 2194s 24ms/step - loss: 0.5638 - acc: 0.7054\n",
      "Epoch 2/20\n",
      "92405/92405 [==============================] - 2184s 24ms/step - loss: 0.5395 - acc: 0.7280\n",
      "Epoch 3/20\n",
      "92405/92405 [==============================] - 2150s 23ms/step - loss: 0.5316 - acc: 0.7339\n",
      "Epoch 4/20\n",
      "92405/92405 [==============================] - 2150s 23ms/step - loss: 0.5275 - acc: 0.7392\n",
      "Epoch 5/20\n",
      "92405/92405 [==============================] - 2150s 23ms/step - loss: 0.5235 - acc: 0.7404\n",
      "Epoch 6/20\n",
      "92405/92405 [==============================] - 2150s 23ms/step - loss: 0.5214 - acc: 0.7438\n",
      "Epoch 7/20\n",
      "92405/92405 [==============================] - 2150s 23ms/step - loss: 0.5195 - acc: 0.7441\n",
      "Epoch 8/20\n",
      "92405/92405 [==============================] - 2150s 23ms/step - loss: 0.5179 - acc: 0.7451\n",
      "Epoch 9/20\n",
      "92405/92405 [==============================] - 2175s 24ms/step - loss: 0.5176 - acc: 0.7449\n",
      "Epoch 10/20\n",
      "92405/92405 [==============================] - 2150s 23ms/step - loss: 0.5164 - acc: 0.7465\n",
      "Epoch 11/20\n",
      "92405/92405 [==============================] - 2150s 23ms/step - loss: 0.5150 - acc: 0.7488\n",
      "Epoch 12/20\n",
      "92405/92405 [==============================] - 2150s 23ms/step - loss: 0.5157 - acc: 0.7469\n",
      "Epoch 13/20\n",
      "92405/92405 [==============================] - 2150s 23ms/step - loss: 0.5148 - acc: 0.7486\n",
      "Epoch 14/20\n",
      "92405/92405 [==============================] - 2150s 23ms/step - loss: 0.5134 - acc: 0.7494\n",
      "Epoch 15/20\n",
      "92405/92405 [==============================] - 2150s 23ms/step - loss: 0.5132 - acc: 0.7493\n",
      "Epoch 16/20\n",
      "92405/92405 [==============================] - 2150s 23ms/step - loss: 0.5118 - acc: 0.7497\n",
      "Epoch 17/20\n",
      "92405/92405 [==============================] - 2150s 23ms/step - loss: 0.5118 - acc: 0.7512\n",
      "Epoch 18/20\n",
      "92405/92405 [==============================] - 2150s 23ms/step - loss: 0.5112 - acc: 0.7513\n",
      "Epoch 19/20\n",
      "92405/92405 [==============================] - 2181s 24ms/step - loss: 0.5108 - acc: 0.7492\n",
      "Epoch 20/20\n",
      "92405/92405 [==============================] - 2190s 24ms/step - loss: 0.5111 - acc: 0.7512\n"
     ]
    }
   ],
   "source": [
    "#Dont run this unless you have TF-gpu\n",
    "history = model.fit(train_images, train_labels, \n",
    "          shuffle=True,\n",
    "          epochs=20,\n",
    "          batch_size=64)"
   ]
  },
  {
   "cell_type": "code",
   "execution_count": 10,
   "metadata": {},
   "outputs": [],
   "source": [
    "#Save output\n",
    "path2out = \"C:/Users/alex/Hands-On-Machine Learning/Project - Mammography/Models/\"\n",
    "model.save(path2out + 'CNN_VGG16_Aug.h5')\n",
    "model.save_weights(path2out + 'CNN_VGG16_Wts_Aug.h5')\n",
    "np.save(path2out + \"CNN_VGG16_Hist_Aug.npy\",history.history)"
   ]
  },
  {
   "cell_type": "code",
   "execution_count": 12,
   "metadata": {},
   "outputs": [
    {
     "name": "stdout",
     "output_type": "stream",
     "text": [
      "7682/7682 [==============================] - 213s 28ms/step\n",
      "The test accuracy is 0.7444675865659984\n",
      "The cross-entropy loss is 0.4863580038494134\n"
     ]
    }
   ],
   "source": [
    "test_loss, test_acc = model.evaluate(validation_images, validation_labels)\n",
    "print(\"The test accuracy is \" + str(test_acc))\n",
    "print(\"The cross-entropy loss is \" + str(test_loss))"
   ]
  }
 ],
 "metadata": {
  "kernelspec": {
   "display_name": "Python 3",
   "language": "python",
   "name": "python3"
  },
  "language_info": {
   "codemirror_mode": {
    "name": "ipython",
    "version": 3
   },
   "file_extension": ".py",
   "mimetype": "text/x-python",
   "name": "python",
   "nbconvert_exporter": "python",
   "pygments_lexer": "ipython3",
   "version": "3.6.8"
  }
 },
 "nbformat": 4,
 "nbformat_minor": 2
}
